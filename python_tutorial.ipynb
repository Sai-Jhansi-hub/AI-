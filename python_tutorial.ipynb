{
 "cells": [
  {
   "cell_type": "code",
   "execution_count": 1,
   "id": "7923c594",
   "metadata": {},
   "outputs": [
    {
     "name": "stdout",
     "output_type": "stream",
     "text": [
      "hello world\n"
     ]
    }
   ],
   "source": [
    "print(\"hello world\")"
   ]
  },
  {
   "cell_type": "code",
   "execution_count": 2,
   "id": "098fca18",
   "metadata": {},
   "outputs": [
    {
     "name": "stdout",
     "output_type": "stream",
     "text": [
      "hello world\n"
     ]
    }
   ],
   "source": [
    "print('hello world')"
   ]
  },
  {
   "cell_type": "code",
   "execution_count": 3,
   "id": "bd6cc6be",
   "metadata": {},
   "outputs": [
    {
     "name": "stdout",
     "output_type": "stream",
     "text": [
      "24\n"
     ]
    }
   ],
   "source": [
    "age=23\n",
    "age=24\n",
    "print(age)"
   ]
  },
  {
   "cell_type": "code",
   "execution_count": 4,
   "id": "53eb9981",
   "metadata": {},
   "outputs": [
    {
     "name": "stdout",
     "output_type": "stream",
     "text": [
      "False\n"
     ]
    }
   ],
   "source": [
    "age=20\n",
    "price=19.95\n",
    "first_name='Mosh'\n",
    "is_online=False\n",
    "print(is_online)"
   ]
  },
  {
   "cell_type": "code",
   "execution_count": 5,
   "id": "0621206d",
   "metadata": {},
   "outputs": [
    {
     "name": "stdout",
     "output_type": "stream",
     "text": [
      "What is your nameJhansi\n",
      "Hello Jhansi\n"
     ]
    }
   ],
   "source": [
    "#receiving input\n",
    "name= input(\"What is your name\")\n",
    "print(\"Hello\" + \" \" + name)"
   ]
  },
  {
   "cell_type": "code",
   "execution_count": 6,
   "id": "374674ad",
   "metadata": {},
   "outputs": [
    {
     "name": "stdout",
     "output_type": "stream",
     "text": [
      "enter your birth year2000\n",
      "23\n"
     ]
    }
   ],
   "source": [
    "birth_year=input(\"enter your birth year: \")\n",
    "age=2023-int(birth_year)\n",
    "print(age)"
   ]
  },
  {
   "cell_type": "code",
   "execution_count": 7,
   "id": "6c23744b",
   "metadata": {},
   "outputs": [
    {
     "data": {
      "text/plain": [
       "''"
      ]
     },
     "execution_count": 7,
     "metadata": {},
     "output_type": "execute_result"
    }
   ],
   "source": [
    "int()\n",
    "float()\n",
    "bool()\n",
    "str()\n"
   ]
  },
  {
   "cell_type": "code",
   "execution_count": 8,
   "id": "3aa8f6d9",
   "metadata": {
    "scrolled": true
   },
   "outputs": [
    {
     "name": "stdout",
     "output_type": "stream",
     "text": [
      "enter num1: 1\n",
      "enter num2: 1.5\n",
      "2.5\n",
      "sum 2.5\n"
     ]
    }
   ],
   "source": [
    "num1=float(input(\"enter num1: \"))\n",
    "num2=float(input(\"enter num2: \"))\n",
    "sum=num1+num2\n",
    "print(sum)\n",
    "print(\"sum \"+ str(sum))"
   ]
  },
  {
   "cell_type": "code",
   "execution_count": 9,
   "id": "5f7e8c70",
   "metadata": {},
   "outputs": [
    {
     "name": "stdout",
     "output_type": "stream",
     "text": [
      "PYTHON FOR BEGINNERS\n",
      "python for beginners\n",
      "python for beginners\n",
      "1\n",
      "-1\n",
      "7\n",
      "python 4 beginners\n",
      "True\n"
     ]
    }
   ],
   "source": [
    "course='python for beginners'\n",
    "print(course.upper())\n",
    "print(course)\n",
    "print(course.lower())\n",
    "print(course.find('y'))\n",
    "print(course.find('Y'))# Y is not present\n",
    "print(course.find('for'))\n",
    "print(course.replace('for','4'))\n",
    "print('python' in course)"
   ]
  },
  {
   "cell_type": "code",
   "execution_count": 10,
   "id": "81efc3d2",
   "metadata": {},
   "outputs": [
    {
     "name": "stdout",
     "output_type": "stream",
     "text": [
      "13\n",
      "7\n",
      "30\n",
      "3.3333333333333335\n",
      "3\n",
      "1\n",
      "1000\n"
     ]
    }
   ],
   "source": [
    "print(10+3)\n",
    "print(10-3)\n",
    "print(10*3)\n",
    "print(10/3)# gets floating number\n",
    "print(10//3)# gets integer i.e, whole number\n",
    "print(10%3)\n",
    "print(10**3)"
   ]
  },
  {
   "cell_type": "code",
   "execution_count": 11,
   "id": "1f5f5a02",
   "metadata": {},
   "outputs": [],
   "source": [
    "x=10\n",
    "x=x+3\n",
    "x+=3\n",
    "x-=3\n",
    "x*=3\n"
   ]
  },
  {
   "cell_type": "code",
   "execution_count": 12,
   "id": "246fc369",
   "metadata": {},
   "outputs": [
    {
     "name": "stdout",
     "output_type": "stream",
     "text": [
      "16\n",
      "26\n"
     ]
    }
   ],
   "source": [
    "#precedence\n",
    "x=10+3*2\n",
    "print(x)\n",
    "x=(10+3)*2\n",
    "print(x)"
   ]
  },
  {
   "cell_type": "code",
   "execution_count": 13,
   "id": "3e92c387",
   "metadata": {},
   "outputs": [
    {
     "name": "stdout",
     "output_type": "stream",
     "text": [
      "True\n",
      "False\n"
     ]
    }
   ],
   "source": [
    "#comparison operator\n",
    "x=3>2\n",
    "print(x)\n",
    "x=3==2\n",
    "print(x)\n",
    "# >, >=, <, <=, ==, !="
   ]
  },
  {
   "cell_type": "code",
   "execution_count": 15,
   "id": "0b9f0dd5",
   "metadata": {},
   "outputs": [
    {
     "name": "stdout",
     "output_type": "stream",
     "text": [
      "True\n",
      "True\n"
     ]
    }
   ],
   "source": [
    "price = 25\n",
    "print(price > 10 or price < 30)\n",
    "price=5\n",
    "print(not price>10)\n",
    "# and (true if both the expressions are true)\n",
    "# or(true if one of the expressions is true)\n",
    "#not(inverse the expression)"
   ]
  },
  {
   "cell_type": "code",
   "execution_count": 22,
   "id": "5ac4e1ff",
   "metadata": {},
   "outputs": [
    {
     "name": "stdout",
     "output_type": "stream",
     "text": [
      "It's a bit cold\n",
      "Done\n"
     ]
    }
   ],
   "source": [
    "temperature=15\n",
    "if temperature > 30:\n",
    "    print(\"It's a hot day \")\n",
    "    print(\"Drink plenty of water\")\n",
    "elif temperature>20: #(20,30]\n",
    "    print(\"It's a nice day\")\n",
    "elif temperature>10: #(10,20]\n",
    "    print(\"It's a bit cold\")\n",
    "print(\"Done\")    \n"
   ]
  },
  {
   "cell_type": "code",
   "execution_count": 3,
   "id": "6e5ec110",
   "metadata": {},
   "outputs": [
    {
     "name": "stdout",
     "output_type": "stream",
     "text": [
      "1\n",
      "2\n",
      "3\n",
      "4\n",
      "5\n"
     ]
    }
   ],
   "source": [
    "i=1\n",
    "while i<=5:\n",
    "    print(i)\n",
    "    i=i+1;\n"
   ]
  },
  {
   "cell_type": "code",
   "execution_count": 7,
   "id": "12aee2e3",
   "metadata": {},
   "outputs": [
    {
     "name": "stdout",
     "output_type": "stream",
     "text": [
      "\n",
      "**********\n",
      "********************\n",
      "******************************\n",
      "****************************************\n",
      "**************************************************\n",
      "************************************************************\n",
      "**********************************************************************\n",
      "********************************************************************************\n",
      "******************************************************************************************\n",
      "****************************************************************************************************\n"
     ]
    }
   ],
   "source": [
    "i=0\n",
    "while i<=1_00:\n",
    "    print(i * '*')\n",
    "    i=i+10;"
   ]
  },
  {
   "cell_type": "code",
   "execution_count": 13,
   "id": "fdee1d66",
   "metadata": {},
   "outputs": [
    {
     "name": "stdout",
     "output_type": "stream",
     "text": [
      "Jhansi\n",
      "jockey\n",
      "Jack\n",
      "['Sai Jhansi', 'Jeet', 'John', 'Jack', 'jockey']\n",
      "['Sai Jhansi', 'Jeet', 'John']\n"
     ]
    }
   ],
   "source": [
    "#lists\n",
    "names=[\"Jhansi\", \"Jeet\", \"John\", \"Jack\", \"jockey\"]\n",
    "print(names[0])\n",
    "print(names[-1])\n",
    "print(names[-2])\n",
    "names[0]=\"Sai Jhansi\"\n",
    "print(names)\n",
    "print(names[0:3])"
   ]
  },
  {
   "cell_type": "code",
   "execution_count": 17,
   "id": "34691060",
   "metadata": {},
   "outputs": [
    {
     "name": "stdout",
     "output_type": "stream",
     "text": [
      "[1, 2, 3, 4, 5, 6]\n",
      "[-1, 1, 2, 3, 4, 5, 6]\n",
      "[-1, 1, 2, 4, 5, 6]\n",
      "True\n",
      "6\n",
      "-1\n",
      "1\n",
      "2\n",
      "4\n",
      "5\n",
      "6\n",
      "sai\n",
      "sai\n",
      "\n",
      "s\taij\than\tsi\n",
      "\n",
      "-1\n",
      "1\n",
      "2\n",
      "4\n",
      "5\n",
      "6\n",
      "[]\n",
      "False\n"
     ]
    }
   ],
   "source": [
    "#list methods\n",
    "nums=[1,2,3,4,5]\n",
    "nums.append(6) # inserts at the last\n",
    "print(nums)\n",
    "\n",
    "nums.insert(0,-1)\n",
    "print(nums)\n",
    "\n",
    "nums.remove(3)\n",
    "print(nums)\n",
    "\n",
    "print(1 in nums)\n",
    "\n",
    "print( len(nums))\n",
    "\n",
    "for item in nums:\n",
    "    print(item)\n",
    "\n",
    "print(\"sai\")\n",
    "print(\"sai\\n\")\n",
    "print(\"s\\taij\\than\\tsi\")\n",
    "print()\n",
    "i=0\n",
    "while i< len(nums):\n",
    "    print(nums[i])\n",
    "    i=i+1;\n",
    "\n",
    "\n",
    "nums.clear()\n",
    "print(nums)\n",
    "\n",
    "print(1 in nums)"
   ]
  },
  {
   "cell_type": "code",
   "execution_count": 15,
   "id": "69b4afcc",
   "metadata": {},
   "outputs": [
    {
     "name": "stdout",
     "output_type": "stream",
     "text": [
      "range(0, 5)\n",
      "0\n",
      "1\n",
      "2\n",
      "3\n",
      "4\n",
      "5\n",
      "6\n",
      "7\n",
      "8\n",
      "9\n",
      "5\n",
      "7\n",
      "9\n",
      "0\n",
      "1\n",
      "2\n",
      "3\n",
      "4\n"
     ]
    }
   ],
   "source": [
    "#range\n",
    "numbers=range(5)\n",
    "print(numbers)\n",
    "\n",
    "numbers=range(5)\n",
    "for numbers in numbers:\n",
    "    print(numbers)\n",
    "    \n",
    "numbers=range(5,10)\n",
    "for numbers in numbers:\n",
    "    print(numbers)\n",
    "\n",
    "numbers=range(5,10,2)\n",
    "for numbers in numbers:\n",
    "    print(numbers)\n",
    "    \n",
    "for numbers in range(5):\n",
    "    print(numbers)\n"
   ]
  },
  {
   "cell_type": "code",
   "execution_count": 37,
   "id": "6cc6c3ce",
   "metadata": {},
   "outputs": [
    {
     "data": {
      "text/plain": [
       "2"
      ]
     },
     "execution_count": 37,
     "metadata": {},
     "output_type": "execute_result"
    }
   ],
   "source": [
    "# tuples are immutable\n",
    "numbers=(1,2,3,3)\n",
    "numbers.count(3)"
   ]
  },
  {
   "cell_type": "code",
   "execution_count": 71,
   "id": "f357c61d",
   "metadata": {},
   "outputs": [
    {
     "name": "stdout",
     "output_type": "stream",
     "text": [
      "1D Array after appending [10 13 30  4]\n",
      "1D Array [10 13 30]\n",
      "2D array\n",
      " [[10  6 20]\n",
      " [ 1 26  3]]\n",
      "Shape of array2: (2, 3)\n",
      "Size of array2: 6\n",
      "[20 23 40]\n",
      "arr1 - 10: [ 0  3 20]\n",
      "arr1 * 10: [100 130 300]\n",
      "arr1 / 10: [1.  1.3 3. ]\n",
      "arr1 % 10: [0 3 0]\n",
      "arr1 // 10: [1 1 3]\n",
      "arr1 **10: [1410065408  419538377  716276736]\n",
      "\n",
      "\n",
      "[[12  8 22]\n",
      " [ 3 28  5]]\n",
      "[[ 8  4 18]\n",
      " [-1 24  1]]\n",
      "[[20 12 40]\n",
      " [ 2 52  6]]\n",
      "zeros array:\n",
      " [[0. 0. 0.]\n",
      " [0. 0. 0.]]\n",
      "ones array:\n",
      " [[1. 1.]\n",
      " [1. 1.]\n",
      " [1. 1.]]\n",
      "Range array: [ 1  2  3  4  5  6  7  8  9 10]\n",
      "17.666666666666668\n",
      "53\n",
      "Original:\n",
      " [[1 2 3]\n",
      " [4 5 6]]\n",
      "Reshaped:\n",
      " [[1 2]\n",
      " [3 4]\n",
      " [5 6]]\n",
      "Reshaped arr1 to 3x1:\n",
      " [[10]\n",
      " [13]\n",
      " [30]]\n"
     ]
    }
   ],
   "source": [
    "#NumPy\n",
    "import numpy as np # import the numpy library\n",
    "# create a Numpy array(1D Array)\n",
    "arr1= np.array([10,13,30])# Creating a 1D array (like a simple list)\n",
    "arr=np.append(arr1,4)\n",
    "print(\"1D Array after appending\", arr)\n",
    "print(\"1D Array\", arr1)\n",
    "\n",
    "arr2=np.array([[10,6,20],[1,26,3]])#2D array(like a table or matrix)\n",
    "print(\"2D array\\n\", arr2)\n",
    "# Step 3: Array operations\n",
    "print(\"Shape of array2:\", arr2.shape)#2x3 matrix, 2 -> rows, 3 -> col\n",
    "print(\"Size of array2:\", arr2.size)# gives no of elements in arr2\n",
    "print(arr1+10)#1D matrix addidtion\n",
    "print(\"arr1 - 10:\", arr1 - 10)\n",
    "print(\"arr1 * 10:\", arr1 * 10)\n",
    "print(\"arr1 / 10:\", arr1 / 10)# gives quotient after dividing with 10\n",
    "print(\"arr1 % 10:\", arr1 % 10)# % -> gives remainder    \" \"\n",
    "print(\"arr1 // 10:\", arr1 // 10)# // -> floor divison, gives rounded off quotient \n",
    "print(\"arr1 **10:\", arr1 ** 10)#  ** is the exponentiation operator, gives each element of arr1 to the power of 10\n",
    "print()\n",
    "print()\n",
    "print(arr2+2)\n",
    "print(arr2-2)#\n",
    "print(arr2*2)#2D matrix myltiplication\n",
    "\n",
    "zero_arr=np.zeros((2,3))#create an array of zeroes in 2X3 matrix\n",
    "print(\"zeros array:\\n\", zeros_arr)\n",
    "\n",
    "ones_arr=np.ones((3,2))#create an array of ones in 3X2 matrix\n",
    "print(\"ones array:\\n\", ones_arr)\n",
    "\n",
    "range_arr=np.arange(1,11)\n",
    "print(\"Range array:\", range_arr)# gives array with range:from 1 to 10\n",
    "\n",
    "print(np.mean(arr1))\n",
    "print(np.sum(arr1))\n",
    "\n",
    "#Reshaping arrays\n",
    "\n",
    "matrix = np.array([[1, 2, 3], [4, 5, 6]])\n",
    "reshaped = matrix.reshape(3, 2)\n",
    "\n",
    "print(\"Original:\\n\", matrix)\n",
    "print(\"Reshaped:\\n\", reshaped)\n",
    "\n",
    "reshaped=arr1.reshape(3,1)\n",
    "print(\"Reshaped arr1 to 3x1:\\n\", reshaped)\n"
   ]
  },
  {
   "cell_type": "code",
   "execution_count": 1,
   "id": "966b9cae",
   "metadata": {},
   "outputs": [
    {
     "name": "stdout",
     "output_type": "stream",
     "text": [
      "      Name  Age\n",
      "0    Alice   25\n",
      "1      Bob   30\n",
      "2  Charlie   35\n"
     ]
    }
   ],
   "source": [
    "#pandas\n",
    "import pandas as pd\n",
    "\n",
    "# Creating a DataFrame from a dictionary\n",
    "data = {\n",
    "    'Name': ['Alice', 'Bob', 'Charlie'],\n",
    "    'Age': [25, 30, 35]\n",
    "}\n",
    "\n",
    "df = pd.DataFrame(data)\n",
    "print(df)\n"
   ]
  },
  {
   "cell_type": "code",
   "execution_count": null,
   "id": "6910aa15",
   "metadata": {},
   "outputs": [],
   "source": [
    "\n",
    "#Pandas is a powerful Python library used for data analysis and manipulation.\n",
    "\n",
    "#Lets you work with tables of data (like Excel sheets or SQL tables) easily.\n",
    "\n",
    "#Helps with reading/writing CSV, Excel, JSON, and more.\n",
    "\n",
    "#Makes it simple to clean, filter, group, sort, reshape, and analyze data."
   ]
  }
 ],
 "metadata": {
  "kernelspec": {
   "display_name": "Python 3 (ipykernel)",
   "language": "python",
   "name": "python3"
  },
  "language_info": {
   "codemirror_mode": {
    "name": "ipython",
    "version": 3
   },
   "file_extension": ".py",
   "mimetype": "text/x-python",
   "name": "python",
   "nbconvert_exporter": "python",
   "pygments_lexer": "ipython3",
   "version": "3.11.5"
  }
 },
 "nbformat": 4,
 "nbformat_minor": 5
}
